{
  "cells": [
    {
      "cell_type": "markdown",
      "id": "rSF_UH-XklO4",
      "metadata": {
        "id": "rSF_UH-XklO4"
      },
      "source": [
        "## Analysis of a Car Sell Dataset Part 2"
      ]
    },
    {
      "cell_type": "markdown",
      "id": "aWJHrXuwklO5",
      "metadata": {
        "id": "aWJHrXuwklO5"
      },
      "source": [
        "There are two goals in the second analysis task: (1), train linear regression models to predict the selling prices of cars; (2) assess the data ethics issues. There are *7* questions in this portfolio.\n",
        "\n",
        "The first goal involves a standard Data Science workflow: exploring data, building models, making predictions, and evaluating results. In this task, we will explore the impacts of feature selections and different sizes of training/testing data on the model performance. We will use another cleaned car_sells sub-dataset that **is different from** the one in “Analysis of a Car Sell Dataset” task 1. This goal covers Questions *1-6*.\n",
        "\n",
        "Question *7* is about data ethics issue."
      ]
    },
    {
      "cell_type": "code",
      "execution_count": null,
      "id": "f2b11c57",
      "metadata": {
        "id": "f2b11c57"
      },
      "outputs": [],
      "source": [
        "your_name = \"Najam Naseer\"\n",
        "your_student_id = \"44428693\""
      ]
    },
    {
      "cell_type": "code",
      "execution_count": null,
      "id": "0e327626",
      "metadata": {
        "id": "0e327626"
      },
      "outputs": [],
      "source": [
        "import pandas as pd\n",
        "import numpy as np\n",
        "from sklearn.model_selection import train_test_split\n",
        "from sklearn import linear_model\n",
        "from sklearn.metrics import r2_score\n",
        "\n",
        "import seaborn as sns\n",
        "import matplotlib.pylab as plt\n",
        "%matplotlib inline"
      ]
    },
    {
      "cell_type": "code",
      "source": [],
      "metadata": {
        "id": "NSwQr_04cgYd"
      },
      "id": "NSwQr_04cgYd",
      "execution_count": null,
      "outputs": []
    },
    {
      "cell_type": "markdown",
      "id": "0g4OhHHzklO6",
      "metadata": {
        "id": "0g4OhHHzklO6"
      },
      "source": [
        "### Q1: Import Cleaned Car Sell Dataset\n",
        "The csv file named 'car_sells_clean_data.csv' is provided. You may need to use the Pandas method, i.e., `read_csv`, for reading it. After that, please print out its total length."
      ]
    },
    {
      "cell_type": "code",
      "source": [
        "df = pd.read_csv('car_sells_clean_data.csv')\n",
        "print(len(df))"
      ],
      "metadata": {
        "colab": {
          "base_uri": "https://localhost:8080/"
        },
        "id": "uWm0R91Lcxyz",
        "outputId": "062d05ad-14d8-4660-f8a6-fa446174b719"
      },
      "id": "uWm0R91Lcxyz",
      "execution_count": null,
      "outputs": [
        {
          "output_type": "stream",
          "name": "stdout",
          "text": [
            "3657\n"
          ]
        }
      ]
    },
    {
      "cell_type": "code",
      "source": [],
      "metadata": {
        "id": "AAKg8fZjcwvo"
      },
      "id": "AAKg8fZjcwvo",
      "execution_count": null,
      "outputs": []
    },
    {
      "cell_type": "code",
      "source": [],
      "metadata": {
        "id": "jqmUw6TCczgc"
      },
      "id": "jqmUw6TCczgc",
      "execution_count": null,
      "outputs": []
    },
    {
      "cell_type": "code",
      "source": [],
      "metadata": {
        "id": "rxa7GmtZdDce"
      },
      "id": "rxa7GmtZdDce",
      "execution_count": null,
      "outputs": []
    },
    {
      "cell_type": "markdown",
      "source": [],
      "metadata": {
        "id": "JVcpvQEkrM6N"
      },
      "id": "JVcpvQEkrM6N"
    },
    {
      "cell_type": "code",
      "execution_count": null,
      "id": "9ki1LBees70W",
      "metadata": {
        "id": "9ki1LBees70W"
      },
      "outputs": [],
      "source": []
    },
    {
      "cell_type": "code",
      "source": [],
      "metadata": {
        "id": "XGJ-0cpoZ66Q"
      },
      "id": "XGJ-0cpoZ66Q",
      "execution_count": null,
      "outputs": []
    },
    {
      "cell_type": "markdown",
      "id": "RpXf1q3UklO7",
      "metadata": {
        "id": "RpXf1q3UklO7"
      },
      "source": [
        "### Q2: Explore the Dataset\n",
        "\n",
        "* Use the methods, i.e., `head()` and `info()`, to have a rough picture about the data, e.g., how many columns, and the data types of each column.\n",
        "* As our goal is to predict cars' selling prices given other columns, please get the correlations between year/km_driven/seller_type/fuel/owner and selling_price by using the `corr()` method.\n",
        "* To get the correlations between different features, you may need to first convert the categorical features (i.e., seller_type and owner) into numerial values. For doing this, you may need to import `OrdinalEncoder` from `sklearn.preprocessing` (refer to the useful exmaples [here](https://pbpython.com/categorical-encoding.html))\n",
        "* Please provide ___necessary explanations/analysis___ on the correlations, and figure out which are the ___most___ and ___least___ corrleated features regarding selling_price. Try to ___discuss___ how the correlation will affect the final prediction results, if we use these features to train a regression model for selling_price prediction. In what follows, we will conduct experiments to verify your hypothesis."
      ]
    },
    {
      "cell_type": "code",
      "source": [
        "df.head()\n"
      ],
      "metadata": {
        "colab": {
          "base_uri": "https://localhost:8080/",
          "height": 434
        },
        "id": "nUq8pjTpT8AM",
        "outputId": "0d9444a4-09f0-4a57-cf75-0e23361e772e"
      },
      "id": "nUq8pjTpT8AM",
      "execution_count": null,
      "outputs": [
        {
          "output_type": "execute_result",
          "data": {
            "text/plain": [
              "                       name    year  selling_price  km_driven    fuel  \\\n",
              "0             Maruti 800 AC  2007.0          60000      70000  Petrol   \n",
              "1  Maruti Wagon R LXI Minor  2007.0         135000      50000  Petrol   \n",
              "2      Hyundai Verna 1.6 SX  2012.0         600000     100000  Diesel   \n",
              "3    Datsun RediGO T Option  2017.0         250000      46000  Petrol   \n",
              "4     Honda Amaze VX i-DTEC  2014.0         450000     141000  Diesel   \n",
              "\n",
              "  seller_type transmission         owner  \n",
              "0  Individual       Manual   First Owner  \n",
              "1  Individual       Manual   First Owner  \n",
              "2  Individual       Manual   First Owner  \n",
              "3  Individual       Manual   First Owner  \n",
              "4  Individual       Manual  Second Owner  "
            ],
            "text/html": [
              "\n",
              "  <div id=\"df-3641bcee-ed7a-4aa9-9cb7-111f4990d298\" class=\"colab-df-container\">\n",
              "    <div>\n",
              "<style scoped>\n",
              "    .dataframe tbody tr th:only-of-type {\n",
              "        vertical-align: middle;\n",
              "    }\n",
              "\n",
              "    .dataframe tbody tr th {\n",
              "        vertical-align: top;\n",
              "    }\n",
              "\n",
              "    .dataframe thead th {\n",
              "        text-align: right;\n",
              "    }\n",
              "</style>\n",
              "<table border=\"1\" class=\"dataframe\">\n",
              "  <thead>\n",
              "    <tr style=\"text-align: right;\">\n",
              "      <th></th>\n",
              "      <th>name</th>\n",
              "      <th>year</th>\n",
              "      <th>selling_price</th>\n",
              "      <th>km_driven</th>\n",
              "      <th>fuel</th>\n",
              "      <th>seller_type</th>\n",
              "      <th>transmission</th>\n",
              "      <th>owner</th>\n",
              "    </tr>\n",
              "  </thead>\n",
              "  <tbody>\n",
              "    <tr>\n",
              "      <th>0</th>\n",
              "      <td>Maruti 800 AC</td>\n",
              "      <td>2007.0</td>\n",
              "      <td>60000</td>\n",
              "      <td>70000</td>\n",
              "      <td>Petrol</td>\n",
              "      <td>Individual</td>\n",
              "      <td>Manual</td>\n",
              "      <td>First Owner</td>\n",
              "    </tr>\n",
              "    <tr>\n",
              "      <th>1</th>\n",
              "      <td>Maruti Wagon R LXI Minor</td>\n",
              "      <td>2007.0</td>\n",
              "      <td>135000</td>\n",
              "      <td>50000</td>\n",
              "      <td>Petrol</td>\n",
              "      <td>Individual</td>\n",
              "      <td>Manual</td>\n",
              "      <td>First Owner</td>\n",
              "    </tr>\n",
              "    <tr>\n",
              "      <th>2</th>\n",
              "      <td>Hyundai Verna 1.6 SX</td>\n",
              "      <td>2012.0</td>\n",
              "      <td>600000</td>\n",
              "      <td>100000</td>\n",
              "      <td>Diesel</td>\n",
              "      <td>Individual</td>\n",
              "      <td>Manual</td>\n",
              "      <td>First Owner</td>\n",
              "    </tr>\n",
              "    <tr>\n",
              "      <th>3</th>\n",
              "      <td>Datsun RediGO T Option</td>\n",
              "      <td>2017.0</td>\n",
              "      <td>250000</td>\n",
              "      <td>46000</td>\n",
              "      <td>Petrol</td>\n",
              "      <td>Individual</td>\n",
              "      <td>Manual</td>\n",
              "      <td>First Owner</td>\n",
              "    </tr>\n",
              "    <tr>\n",
              "      <th>4</th>\n",
              "      <td>Honda Amaze VX i-DTEC</td>\n",
              "      <td>2014.0</td>\n",
              "      <td>450000</td>\n",
              "      <td>141000</td>\n",
              "      <td>Diesel</td>\n",
              "      <td>Individual</td>\n",
              "      <td>Manual</td>\n",
              "      <td>Second Owner</td>\n",
              "    </tr>\n",
              "  </tbody>\n",
              "</table>\n",
              "</div>\n",
              "    <div class=\"colab-df-buttons\">\n",
              "\n",
              "  <div class=\"colab-df-container\">\n",
              "    <button class=\"colab-df-convert\" onclick=\"convertToInteractive('df-3641bcee-ed7a-4aa9-9cb7-111f4990d298')\"\n",
              "            title=\"Convert this dataframe to an interactive table.\"\n",
              "            style=\"display:none;\">\n",
              "\n",
              "  <svg xmlns=\"http://www.w3.org/2000/svg\" height=\"24px\" viewBox=\"0 -960 960 960\">\n",
              "    <path d=\"M120-120v-720h720v720H120Zm60-500h600v-160H180v160Zm220 220h160v-160H400v160Zm0 220h160v-160H400v160ZM180-400h160v-160H180v160Zm440 0h160v-160H620v160ZM180-180h160v-160H180v160Zm440 0h160v-160H620v160Z\"/>\n",
              "  </svg>\n",
              "    </button>\n",
              "\n",
              "  <style>\n",
              "    .colab-df-container {\n",
              "      display:flex;\n",
              "      gap: 12px;\n",
              "    }\n",
              "\n",
              "    .colab-df-convert {\n",
              "      background-color: #E8F0FE;\n",
              "      border: none;\n",
              "      border-radius: 50%;\n",
              "      cursor: pointer;\n",
              "      display: none;\n",
              "      fill: #1967D2;\n",
              "      height: 32px;\n",
              "      padding: 0 0 0 0;\n",
              "      width: 32px;\n",
              "    }\n",
              "\n",
              "    .colab-df-convert:hover {\n",
              "      background-color: #E2EBFA;\n",
              "      box-shadow: 0px 1px 2px rgba(60, 64, 67, 0.3), 0px 1px 3px 1px rgba(60, 64, 67, 0.15);\n",
              "      fill: #174EA6;\n",
              "    }\n",
              "\n",
              "    .colab-df-buttons div {\n",
              "      margin-bottom: 4px;\n",
              "    }\n",
              "\n",
              "    [theme=dark] .colab-df-convert {\n",
              "      background-color: #3B4455;\n",
              "      fill: #D2E3FC;\n",
              "    }\n",
              "\n",
              "    [theme=dark] .colab-df-convert:hover {\n",
              "      background-color: #434B5C;\n",
              "      box-shadow: 0px 1px 3px 1px rgba(0, 0, 0, 0.15);\n",
              "      filter: drop-shadow(0px 1px 2px rgba(0, 0, 0, 0.3));\n",
              "      fill: #FFFFFF;\n",
              "    }\n",
              "  </style>\n",
              "\n",
              "    <script>\n",
              "      const buttonEl =\n",
              "        document.querySelector('#df-3641bcee-ed7a-4aa9-9cb7-111f4990d298 button.colab-df-convert');\n",
              "      buttonEl.style.display =\n",
              "        google.colab.kernel.accessAllowed ? 'block' : 'none';\n",
              "\n",
              "      async function convertToInteractive(key) {\n",
              "        const element = document.querySelector('#df-3641bcee-ed7a-4aa9-9cb7-111f4990d298');\n",
              "        const dataTable =\n",
              "          await google.colab.kernel.invokeFunction('convertToInteractive',\n",
              "                                                    [key], {});\n",
              "        if (!dataTable) return;\n",
              "\n",
              "        const docLinkHtml = 'Like what you see? Visit the ' +\n",
              "          '<a target=\"_blank\" href=https://colab.research.google.com/notebooks/data_table.ipynb>data table notebook</a>'\n",
              "          + ' to learn more about interactive tables.';\n",
              "        element.innerHTML = '';\n",
              "        dataTable['output_type'] = 'display_data';\n",
              "        await google.colab.output.renderOutput(dataTable, element);\n",
              "        const docLink = document.createElement('div');\n",
              "        docLink.innerHTML = docLinkHtml;\n",
              "        element.appendChild(docLink);\n",
              "      }\n",
              "    </script>\n",
              "  </div>\n",
              "\n",
              "\n",
              "<div id=\"df-c6e70d51-d5be-4564-b557-d7538c4eb3ea\">\n",
              "  <button class=\"colab-df-quickchart\" onclick=\"quickchart('df-c6e70d51-d5be-4564-b557-d7538c4eb3ea')\"\n",
              "            title=\"Suggest charts\"\n",
              "            style=\"display:none;\">\n",
              "\n",
              "<svg xmlns=\"http://www.w3.org/2000/svg\" height=\"24px\"viewBox=\"0 0 24 24\"\n",
              "     width=\"24px\">\n",
              "    <g>\n",
              "        <path d=\"M19 3H5c-1.1 0-2 .9-2 2v14c0 1.1.9 2 2 2h14c1.1 0 2-.9 2-2V5c0-1.1-.9-2-2-2zM9 17H7v-7h2v7zm4 0h-2V7h2v10zm4 0h-2v-4h2v4z\"/>\n",
              "    </g>\n",
              "</svg>\n",
              "  </button>\n",
              "\n",
              "<style>\n",
              "  .colab-df-quickchart {\n",
              "      --bg-color: #E8F0FE;\n",
              "      --fill-color: #1967D2;\n",
              "      --hover-bg-color: #E2EBFA;\n",
              "      --hover-fill-color: #174EA6;\n",
              "      --disabled-fill-color: #AAA;\n",
              "      --disabled-bg-color: #DDD;\n",
              "  }\n",
              "\n",
              "  [theme=dark] .colab-df-quickchart {\n",
              "      --bg-color: #3B4455;\n",
              "      --fill-color: #D2E3FC;\n",
              "      --hover-bg-color: #434B5C;\n",
              "      --hover-fill-color: #FFFFFF;\n",
              "      --disabled-bg-color: #3B4455;\n",
              "      --disabled-fill-color: #666;\n",
              "  }\n",
              "\n",
              "  .colab-df-quickchart {\n",
              "    background-color: var(--bg-color);\n",
              "    border: none;\n",
              "    border-radius: 50%;\n",
              "    cursor: pointer;\n",
              "    display: none;\n",
              "    fill: var(--fill-color);\n",
              "    height: 32px;\n",
              "    padding: 0;\n",
              "    width: 32px;\n",
              "  }\n",
              "\n",
              "  .colab-df-quickchart:hover {\n",
              "    background-color: var(--hover-bg-color);\n",
              "    box-shadow: 0 1px 2px rgba(60, 64, 67, 0.3), 0 1px 3px 1px rgba(60, 64, 67, 0.15);\n",
              "    fill: var(--button-hover-fill-color);\n",
              "  }\n",
              "\n",
              "  .colab-df-quickchart-complete:disabled,\n",
              "  .colab-df-quickchart-complete:disabled:hover {\n",
              "    background-color: var(--disabled-bg-color);\n",
              "    fill: var(--disabled-fill-color);\n",
              "    box-shadow: none;\n",
              "  }\n",
              "\n",
              "  .colab-df-spinner {\n",
              "    border: 2px solid var(--fill-color);\n",
              "    border-color: transparent;\n",
              "    border-bottom-color: var(--fill-color);\n",
              "    animation:\n",
              "      spin 1s steps(1) infinite;\n",
              "  }\n",
              "\n",
              "  @keyframes spin {\n",
              "    0% {\n",
              "      border-color: transparent;\n",
              "      border-bottom-color: var(--fill-color);\n",
              "      border-left-color: var(--fill-color);\n",
              "    }\n",
              "    20% {\n",
              "      border-color: transparent;\n",
              "      border-left-color: var(--fill-color);\n",
              "      border-top-color: var(--fill-color);\n",
              "    }\n",
              "    30% {\n",
              "      border-color: transparent;\n",
              "      border-left-color: var(--fill-color);\n",
              "      border-top-color: var(--fill-color);\n",
              "      border-right-color: var(--fill-color);\n",
              "    }\n",
              "    40% {\n",
              "      border-color: transparent;\n",
              "      border-right-color: var(--fill-color);\n",
              "      border-top-color: var(--fill-color);\n",
              "    }\n",
              "    60% {\n",
              "      border-color: transparent;\n",
              "      border-right-color: var(--fill-color);\n",
              "    }\n",
              "    80% {\n",
              "      border-color: transparent;\n",
              "      border-right-color: var(--fill-color);\n",
              "      border-bottom-color: var(--fill-color);\n",
              "    }\n",
              "    90% {\n",
              "      border-color: transparent;\n",
              "      border-bottom-color: var(--fill-color);\n",
              "    }\n",
              "  }\n",
              "</style>\n",
              "\n",
              "  <script>\n",
              "    async function quickchart(key) {\n",
              "      const quickchartButtonEl =\n",
              "        document.querySelector('#' + key + ' button');\n",
              "      quickchartButtonEl.disabled = true;  // To prevent multiple clicks.\n",
              "      quickchartButtonEl.classList.add('colab-df-spinner');\n",
              "      try {\n",
              "        const charts = await google.colab.kernel.invokeFunction(\n",
              "            'suggestCharts', [key], {});\n",
              "      } catch (error) {\n",
              "        console.error('Error during call to suggestCharts:', error);\n",
              "      }\n",
              "      quickchartButtonEl.classList.remove('colab-df-spinner');\n",
              "      quickchartButtonEl.classList.add('colab-df-quickchart-complete');\n",
              "    }\n",
              "    (() => {\n",
              "      let quickchartButtonEl =\n",
              "        document.querySelector('#df-c6e70d51-d5be-4564-b557-d7538c4eb3ea button');\n",
              "      quickchartButtonEl.style.display =\n",
              "        google.colab.kernel.accessAllowed ? 'block' : 'none';\n",
              "    })();\n",
              "  </script>\n",
              "</div>\n",
              "\n",
              "    </div>\n",
              "  </div>\n"
            ],
            "application/vnd.google.colaboratory.intrinsic+json": {
              "type": "dataframe",
              "variable_name": "df",
              "summary": "{\n  \"name\": \"df\",\n  \"rows\": 3657,\n  \"fields\": [\n    {\n      \"column\": \"name\",\n      \"properties\": {\n        \"dtype\": \"category\",\n        \"num_unique_values\": 1330,\n        \"samples\": [\n          \"Maruti Celerio ZXI\",\n          \"Honda City i VTEC SV\",\n          \"Skoda Laura Elegance 1.9 TDI  AT\"\n        ],\n        \"semantic_type\": \"\",\n        \"description\": \"\"\n      }\n    },\n    {\n      \"column\": \"year\",\n      \"properties\": {\n        \"dtype\": \"number\",\n        \"std\": 4.119127789051497,\n        \"min\": 1995.0,\n        \"max\": 2020.0,\n        \"num_unique_values\": 26,\n        \"samples\": [\n          2013.0,\n          2002.0,\n          2007.0\n        ],\n        \"semantic_type\": \"\",\n        \"description\": \"\"\n      }\n    },\n    {\n      \"column\": \"selling_price\",\n      \"properties\": {\n        \"dtype\": \"number\",\n        \"std\": 557922,\n        \"min\": 20000,\n        \"max\": 8900000,\n        \"num_unique_values\": 412,\n        \"samples\": [\n          641000,\n          1025000,\n          204999\n        ],\n        \"semantic_type\": \"\",\n        \"description\": \"\"\n      }\n    },\n    {\n      \"column\": \"km_driven\",\n      \"properties\": {\n        \"dtype\": \"number\",\n        \"std\": 47007,\n        \"min\": 1,\n        \"max\": 806599,\n        \"num_unique_values\": 666,\n        \"samples\": [\n          48220,\n          11700,\n          58231\n        ],\n        \"semantic_type\": \"\",\n        \"description\": \"\"\n      }\n    },\n    {\n      \"column\": \"fuel\",\n      \"properties\": {\n        \"dtype\": \"category\",\n        \"num_unique_values\": 2,\n        \"samples\": [\n          \"Diesel\",\n          \"Petrol\"\n        ],\n        \"semantic_type\": \"\",\n        \"description\": \"\"\n      }\n    },\n    {\n      \"column\": \"seller_type\",\n      \"properties\": {\n        \"dtype\": \"category\",\n        \"num_unique_values\": 2,\n        \"samples\": [\n          \"Dealer\",\n          \"Individual\"\n        ],\n        \"semantic_type\": \"\",\n        \"description\": \"\"\n      }\n    },\n    {\n      \"column\": \"transmission\",\n      \"properties\": {\n        \"dtype\": \"category\",\n        \"num_unique_values\": 2,\n        \"samples\": [\n          \"Automatic\",\n          \"Manual\"\n        ],\n        \"semantic_type\": \"\",\n        \"description\": \"\"\n      }\n    },\n    {\n      \"column\": \"owner\",\n      \"properties\": {\n        \"dtype\": \"category\",\n        \"num_unique_values\": 3,\n        \"samples\": [\n          \"First Owner\",\n          \"Second Owner\"\n        ],\n        \"semantic_type\": \"\",\n        \"description\": \"\"\n      }\n    }\n  ]\n}"
            }
          },
          "metadata": {},
          "execution_count": 91
        }
      ]
    },
    {
      "cell_type": "code",
      "source": [
        "df.info()"
      ],
      "metadata": {
        "colab": {
          "base_uri": "https://localhost:8080/"
        },
        "id": "7w9UG_rMT7zF",
        "outputId": "ff3d0bfe-f367-4dae-bbd0-58a68ee8d802"
      },
      "id": "7w9UG_rMT7zF",
      "execution_count": null,
      "outputs": [
        {
          "output_type": "stream",
          "name": "stdout",
          "text": [
            "<class 'pandas.core.frame.DataFrame'>\n",
            "RangeIndex: 3657 entries, 0 to 3656\n",
            "Data columns (total 8 columns):\n",
            " #   Column         Non-Null Count  Dtype  \n",
            "---  ------         --------------  -----  \n",
            " 0   name           3657 non-null   object \n",
            " 1   year           3657 non-null   float64\n",
            " 2   selling_price  3657 non-null   int64  \n",
            " 3   km_driven      3657 non-null   int64  \n",
            " 4   fuel           3657 non-null   object \n",
            " 5   seller_type    3657 non-null   object \n",
            " 6   transmission   3657 non-null   object \n",
            " 7   owner          3657 non-null   object \n",
            "dtypes: float64(1), int64(2), object(5)\n",
            "memory usage: 228.7+ KB\n"
          ]
        }
      ]
    },
    {
      "cell_type": "code",
      "execution_count": null,
      "id": "7551c655",
      "metadata": {
        "colab": {
          "base_uri": "https://localhost:8080/"
        },
        "id": "7551c655",
        "outputId": "7a5ce98d-7625-4768-d4e0-44c4a0f4b4da"
      },
      "outputs": [
        {
          "output_type": "stream",
          "name": "stdout",
          "text": [
            "                 fuel_new  owner_new  selling_price      year  km_driven  \\\n",
            "fuel_new         1.000000  -0.017217      -0.277627 -0.118542  -0.297764   \n",
            "owner_new       -0.017217   1.000000      -0.205524 -0.433406   0.306730   \n",
            "selling_price   -0.277627  -0.205524       1.000000  0.411103  -0.177203   \n",
            "year            -0.118542  -0.433406       0.411103  1.000000  -0.404058   \n",
            "km_driven       -0.297764   0.306730      -0.177203 -0.404058   1.000000   \n",
            "seller_type_new  0.036755   0.239288      -0.208637 -0.139135   0.147376   \n",
            "\n",
            "                 seller_type_new  \n",
            "fuel_new                0.036755  \n",
            "owner_new               0.239288  \n",
            "selling_price          -0.208637  \n",
            "year                   -0.139135  \n",
            "km_driven               0.147376  \n",
            "seller_type_new         1.000000  \n",
            "corellations between the colums with selling_price\n",
            "fuel    -0.27762704341734884\n",
            "owner   -0.20552358731122436\n",
            "sellp   1.0\n",
            "year    0.4111027622063309\n",
            "kmdri   -0.17720277985723887\n",
            "seller_type     -0.2086370484027694\n"
          ]
        }
      ],
      "source": [
        "\n",
        "\n",
        "from sklearn.preprocessing import OrdinalEncoder\n",
        "\n",
        "\n",
        "\n",
        "\n",
        "\n",
        "\n",
        "from sklearn.preprocessing import OrdinalEncoder\n",
        "\n",
        "ord_enc=OrdinalEncoder(dtype=int)\n",
        "\n",
        "df[\"seller_type_new\"] = ord_enc.fit_transform(df[[\"seller_type\"]])\n",
        "df[\"fuel_new\"] = ord_enc.fit_transform(df[[\"fuel\"]])\n",
        "df[\"owner_new\"] = ord_enc.fit_transform(df[[\"owner\"]])\n",
        "\n",
        "\n",
        "correlations = df[[ 'fuel_new','owner_new', 'selling_price','year','km_driven','seller_type_new',]].corr()\n",
        "print(correlations)#all the corelattions\n",
        "\n",
        "print('corellations between the colums with selling_price')\n",
        "print('fuel   ',df['fuel_new'].corr(df['selling_price']))\n",
        "print('owner  ',df['owner_new'].corr(df['selling_price']))\n",
        "print('sellp  ',df['selling_price'].corr(df['selling_price']))\n",
        "print('year   ',df['year'].corr(df['selling_price']))\n",
        "print('kmdri  ',df['km_driven'].corr(df['selling_price']))\n",
        "print('seller_type    ',df['seller_type_new'].corr(df['selling_price']))"
      ]
    },
    {
      "cell_type": "markdown",
      "source": [
        "we learn that year is positivly corelated. if year increases so does the selling _price\n",
        "\n",
        "fuel type,owner, selleer type and km_driven are weak corelations where\n",
        "\n",
        "km_driven has least negagtive correlation among them.\n",
        "\n",
        "overall the corellation of selling_price is moderate.\n"
      ],
      "metadata": {
        "id": "u_Ri9VY0nNfh"
      },
      "id": "u_Ri9VY0nNfh"
    },
    {
      "cell_type": "markdown",
      "id": "C3DFUuGXklO_",
      "metadata": {
        "id": "C3DFUuGXklO_"
      },
      "source": [
        "### Q3: Split Training and Testing Data\n",
        "* Machine learning models are trained to help make predictions for the future. Normally, we need to randomly split the dataset into training and testing sets, where we use the training set to train the model, and then leverage the well-trained model to make predictions on the testing set.\n",
        "* To further investigate whether the size of the training/testing data affects the model performance, please randomly split the data into training and testing sets with different sizes:\n",
        "    * Case 1: training data containing 10% of the entire data;\n",
        "    * Case 2: training data containing 90% of the entire data.\n",
        "* Print the shape of training and testing sets in the two cases."
      ]
    },
    {
      "cell_type": "code",
      "source": [],
      "metadata": {
        "id": "1uGn9J0CuG2k"
      },
      "id": "1uGn9J0CuG2k",
      "execution_count": null,
      "outputs": []
    },
    {
      "cell_type": "code",
      "execution_count": null,
      "id": "47f6b5cd",
      "metadata": {
        "colab": {
          "base_uri": "https://localhost:8080/"
        },
        "id": "47f6b5cd",
        "outputId": "2e5cb7e8-f466-4f2b-bc06-8c725b605134"
      },
      "outputs": [
        {
          "output_type": "stream",
          "name": "stdout",
          "text": [
            "         \n",
            "Case1 tr (365, 11)\n",
            "Case1 te (3292, 11)\n",
            "                \n",
            "C2: Tr  (3291, 11)\n",
            "C2: Te (366, 11)\n"
          ]
        }
      ],
      "source": [
        "print(\"         \")\n",
        "traincase1, testcase1 = train_test_split(df, test_size=0.9, random_state=42)\n",
        "print('Case1 tr', traincase1.shape)\n",
        "print('Case1 te', testcase1.shape)\n",
        "print(\"                \")\n",
        "traincase2, testcase2 = train_test_split(df, test_size=0.1, random_state=42)\n",
        "print('C2: Tr ', traincase2.shape)\n",
        "print('C2: Te', testcase2.shape)"
      ]
    },
    {
      "cell_type": "markdown",
      "id": "WiNRCPFoklO_",
      "metadata": {
        "id": "WiNRCPFoklO_"
      },
      "source": [
        "### Q4: Train Linear Regression Models with Feature Selection under Cases 1 & 2\n",
        "* When training a machine learning model for prediction, we may need to select the most important/correlated input features for more accurate results.\n",
        "* To investigate whether feature selection affects the model performance, please select two most correlated features and two least correlated features regarding selling_price, respectively.\n",
        "* Train four linear regression models by following the conditions:\n",
        "    - (model-a) using the training/testing data in case 1 with two most correlated input features\n",
        "    - (model-b) using the training/testing data in case 1 with two least correlated input features\n",
        "    - (model-c) using the training/testing data in case 2 with two most correlated input features\n",
        "    - (model-d) using the training/testing data in case 2 with two least correlated input features\n",
        "* By doing this, we can verify the impacts of the size of traing/testing data on the model performance via comparing model-a and model-c (or model-b and model-d); meanwhile the impacts of feature selection can be validated via comparing model-a and model-b (or model-c and model-d).    "
      ]
    },
    {
      "cell_type": "code",
      "execution_count": null,
      "id": "7bcd6158",
      "metadata": {
        "colab": {
          "base_uri": "https://localhost:8080/",
          "height": 74
        },
        "id": "7bcd6158",
        "outputId": "9fedd6de-09ee-4523-ecc7-830ccbc13e9a"
      },
      "outputs": [
        {
          "output_type": "execute_result",
          "data": {
            "text/plain": [
              "LinearRegression()"
            ],
            "text/html": [
              "<style>#sk-container-id-4 {color: black;}#sk-container-id-4 pre{padding: 0;}#sk-container-id-4 div.sk-toggleable {background-color: white;}#sk-container-id-4 label.sk-toggleable__label {cursor: pointer;display: block;width: 100%;margin-bottom: 0;padding: 0.3em;box-sizing: border-box;text-align: center;}#sk-container-id-4 label.sk-toggleable__label-arrow:before {content: \"▸\";float: left;margin-right: 0.25em;color: #696969;}#sk-container-id-4 label.sk-toggleable__label-arrow:hover:before {color: black;}#sk-container-id-4 div.sk-estimator:hover label.sk-toggleable__label-arrow:before {color: black;}#sk-container-id-4 div.sk-toggleable__content {max-height: 0;max-width: 0;overflow: hidden;text-align: left;background-color: #f0f8ff;}#sk-container-id-4 div.sk-toggleable__content pre {margin: 0.2em;color: black;border-radius: 0.25em;background-color: #f0f8ff;}#sk-container-id-4 input.sk-toggleable__control:checked~div.sk-toggleable__content {max-height: 200px;max-width: 100%;overflow: auto;}#sk-container-id-4 input.sk-toggleable__control:checked~label.sk-toggleable__label-arrow:before {content: \"▾\";}#sk-container-id-4 div.sk-estimator input.sk-toggleable__control:checked~label.sk-toggleable__label {background-color: #d4ebff;}#sk-container-id-4 div.sk-label input.sk-toggleable__control:checked~label.sk-toggleable__label {background-color: #d4ebff;}#sk-container-id-4 input.sk-hidden--visually {border: 0;clip: rect(1px 1px 1px 1px);clip: rect(1px, 1px, 1px, 1px);height: 1px;margin: -1px;overflow: hidden;padding: 0;position: absolute;width: 1px;}#sk-container-id-4 div.sk-estimator {font-family: monospace;background-color: #f0f8ff;border: 1px dotted black;border-radius: 0.25em;box-sizing: border-box;margin-bottom: 0.5em;}#sk-container-id-4 div.sk-estimator:hover {background-color: #d4ebff;}#sk-container-id-4 div.sk-parallel-item::after {content: \"\";width: 100%;border-bottom: 1px solid gray;flex-grow: 1;}#sk-container-id-4 div.sk-label:hover label.sk-toggleable__label {background-color: #d4ebff;}#sk-container-id-4 div.sk-serial::before {content: \"\";position: absolute;border-left: 1px solid gray;box-sizing: border-box;top: 0;bottom: 0;left: 50%;z-index: 0;}#sk-container-id-4 div.sk-serial {display: flex;flex-direction: column;align-items: center;background-color: white;padding-right: 0.2em;padding-left: 0.2em;position: relative;}#sk-container-id-4 div.sk-item {position: relative;z-index: 1;}#sk-container-id-4 div.sk-parallel {display: flex;align-items: stretch;justify-content: center;background-color: white;position: relative;}#sk-container-id-4 div.sk-item::before, #sk-container-id-4 div.sk-parallel-item::before {content: \"\";position: absolute;border-left: 1px solid gray;box-sizing: border-box;top: 0;bottom: 0;left: 50%;z-index: -1;}#sk-container-id-4 div.sk-parallel-item {display: flex;flex-direction: column;z-index: 1;position: relative;background-color: white;}#sk-container-id-4 div.sk-parallel-item:first-child::after {align-self: flex-end;width: 50%;}#sk-container-id-4 div.sk-parallel-item:last-child::after {align-self: flex-start;width: 50%;}#sk-container-id-4 div.sk-parallel-item:only-child::after {width: 0;}#sk-container-id-4 div.sk-dashed-wrapped {border: 1px dashed gray;margin: 0 0.4em 0.5em 0.4em;box-sizing: border-box;padding-bottom: 0.4em;background-color: white;}#sk-container-id-4 div.sk-label label {font-family: monospace;font-weight: bold;display: inline-block;line-height: 1.2em;}#sk-container-id-4 div.sk-label-container {text-align: center;}#sk-container-id-4 div.sk-container {/* jupyter's `normalize.less` sets `[hidden] { display: none; }` but bootstrap.min.css set `[hidden] { display: none !important; }` so we also need the `!important` here to be able to override the default hidden behavior on the sphinx rendered scikit-learn.org. See: https://github.com/scikit-learn/scikit-learn/issues/21755 */display: inline-block !important;position: relative;}#sk-container-id-4 div.sk-text-repr-fallback {display: none;}</style><div id=\"sk-container-id-4\" class=\"sk-top-container\"><div class=\"sk-text-repr-fallback\"><pre>LinearRegression()</pre><b>In a Jupyter environment, please rerun this cell to show the HTML representation or trust the notebook. <br />On GitHub, the HTML representation is unable to render, please try loading this page with nbviewer.org.</b></div><div class=\"sk-container\" hidden><div class=\"sk-item\"><div class=\"sk-estimator sk-toggleable\"><input class=\"sk-toggleable__control sk-hidden--visually\" id=\"sk-estimator-id-4\" type=\"checkbox\" checked><label for=\"sk-estimator-id-4\" class=\"sk-toggleable__label sk-toggleable__label-arrow\">LinearRegression</label><div class=\"sk-toggleable__content\"><pre>LinearRegression()</pre></div></div></div></div></div>"
            ]
          },
          "metadata": {},
          "execution_count": 95
        }
      ],
      "source": [
        "from sklearn.linear_model import LinearRegression\n",
        "\n",
        "# Case 1 - 2 most\n",
        "reg_p1 = LinearRegression()\n",
        "X_train_p1 = traincase1[['year', 'fuel_new']]\n",
        "y_train_p1 = traincase1['selling_price']\n",
        "\n",
        "X_test_p1 = testcase1[['year', 'fuel_new']]\n",
        "y_test_p1 = testcase1['selling_price']\n",
        "\n",
        "reg_p1.fit(X_train_p1, y_train_p1)\n",
        "\n",
        "# Case 1 - least\n",
        "reg_p1_1 = LinearRegression()\n",
        "X_train_p2 = traincase1[['km_driven', 'owner_new']]\n",
        "y_train_p2 = traincase1['selling_price']\n",
        "\n",
        "X_test_p2 = testcase1[['km_driven', 'owner_new']]\n",
        "y_test_p2 = testcase1['selling_price']\n",
        "\n",
        "reg_p1_1.fit(X_train_p2, y_train_p2)\n",
        "\n",
        "# Case 2 most\n",
        "reg_p2 = LinearRegression()\n",
        "X_train_p3 = traincase2[['year', 'fuel_new']]\n",
        "y_train_p3 = traincase2['selling_price']\n",
        "\n",
        "X_test_p3 = testcase2[['year', 'fuel_new']]\n",
        "y_test_p3 = testcase2['selling_price']\n",
        "\n",
        "reg_p2.fit(X_train_p3, y_train_p3)\n",
        "\n",
        "# Case 2 least\n",
        "reg_p2_2 = LinearRegression()\n",
        "X_train_p4 = traincase2[['km_driven', 'owner_new']]\n",
        "y_train_p4 = traincase2['selling_price']\n",
        "\n",
        "X_test_p4 = testcase2[['km_driven', 'owner_new']]\n",
        "y_test_p4 = testcase2['selling_price']\n",
        "\n",
        "reg_p2_2.fit(X_train_p4, y_train_p4)\n"
      ]
    },
    {
      "cell_type": "code",
      "source": [],
      "metadata": {
        "id": "ddRh2hItBEfd"
      },
      "id": "ddRh2hItBEfd",
      "execution_count": null,
      "outputs": []
    },
    {
      "cell_type": "code",
      "source": [],
      "metadata": {
        "id": "GzPZTNSyb1dx"
      },
      "id": "GzPZTNSyb1dx",
      "execution_count": null,
      "outputs": []
    },
    {
      "cell_type": "markdown",
      "id": "uIHDIRCYklO_",
      "metadata": {
        "id": "uIHDIRCYklO_"
      },
      "source": [
        "### Q5: Evaluate Models\n",
        "* Evaluate the performance of the four models with two metrics, including MSE and Root MSE\n",
        "* Print the results of the four models regarding the two metrics"
      ]
    },
    {
      "cell_type": "code",
      "execution_count": null,
      "id": "61621c39",
      "metadata": {
        "colab": {
          "base_uri": "https://localhost:8080/"
        },
        "id": "61621c39",
        "outputId": "7fec38e7-1d8e-4b6c-c8fe-c43e3ebb8f8a"
      },
      "outputs": [
        {
          "output_type": "stream",
          "name": "stdout",
          "text": [
            "240873725575.09454  mse\n",
            "490788.8808592698 rmse\n",
            "          \n",
            "292715789614.6963   mse\n",
            "541032.152108076  rmse\n",
            "      case2    \n",
            "141350876932.57782   mse\n",
            "375966.59018133226  rmse\n",
            "          \n",
            "195254216561.59537  mse\n",
            "441875.79313829285  rmse\n",
            "          \n"
          ]
        }
      ],
      "source": [
        "from sklearn.metrics import mean_squared_error\n",
        "import numpy as np\n",
        "from sklearn import linear_model\n",
        "\n",
        "\n",
        "mse1 = mean_squared_error(y_test_p1,reg_p1.predict(X_test_p1))\n",
        "rmse1 = np.sqrt(mse1)\n",
        "\n",
        "\n",
        "print(mse1, ' mse')\n",
        "print(rmse1, 'rmse')\n",
        "print(\"          \")\n",
        "\n",
        "mse2 = mean_squared_error(y_test_p2,reg_p1_1.predict(X_test_p2))\n",
        "rmse2 = np.sqrt(mse2)\n",
        "\n",
        "\n",
        "print(mse2,'  mse')\n",
        "print(rmse2,' rmse')\n",
        "print(\"      case2    \")\n",
        "mse3 = mean_squared_error(y_test_p3,reg_p2.predict(X_test_p3))\n",
        "rmse3 = np.sqrt(mse3)\n",
        "\n",
        "\n",
        "print(mse3,'  mse')\n",
        "print(rmse3,' rmse')\n",
        "print(\"          \")\n",
        "mse4 = mean_squared_error(y_test_p4,reg_p2_2.predict(X_test_p4))\n",
        "rmse4 = np.sqrt(mse4)\n",
        "\n",
        "\n",
        "print(mse4,' mse')\n",
        "print(rmse4,' rmse')\n",
        "print(\"          \")"
      ]
    },
    {
      "cell_type": "markdown",
      "id": "6wmgPAzpklPA",
      "metadata": {
        "id": "6wmgPAzpklPA"
      },
      "source": [
        "### Q6: Visualize, Compare and Analyze the Results\n",
        "* Visulize the results, and perform ___insightful analysis___ on the obtained results. For better visualization, you may need to carefully set the scale for the y-axis.\n",
        "* Normally, the model trained with most correlated features and more training data will get better results. Do you obtain the similar observations? If not, please ___explain the possible reasons___."
      ]
    },
    {
      "cell_type": "code",
      "execution_count": null,
      "id": "u0dpqTCmklPA",
      "metadata": {
        "id": "u0dpqTCmklPA",
        "colab": {
          "base_uri": "https://localhost:8080/",
          "height": 524
        },
        "outputId": "d0048e93-764f-4e9b-a7de-a645dc2fdfe9"
      },
      "outputs": [
        {
          "output_type": "display_data",
          "data": {
            "text/plain": [
              "<Figure size 800x600 with 1 Axes>"
            ],
            "image/png": "[encoded data removed]"
          },
          "metadata": {}
        }
      ],
      "source": [
        "import matplotlib.pyplot as plt\n",
        "\n",
        "\n",
        "mse_values = [mse1, mse2, mse3, mse4]\n",
        "models = ['mse_Most1', 'mse_Least1', 'mse_Most2', 'mse_Least2']\n",
        "\n",
        "plt.figure(figsize=(8, 6))\n",
        "plt.bar(models,mse_values, color='skyblue')\n",
        "plt.xlabel('Models', size=12)\n",
        "plt.ylabel('MSE', size=12)\n",
        "plt.title('MSE Values for Different Models', size=14)\n",
        "plt.ylim(min(mse_values)*0.9, max(mse_values) * 1.1)  # Adjust ylim to fit data better\n",
        "plt.show()\n"
      ]
    },
    {
      "cell_type": "code",
      "source": [
        "import matplotlib.pyplot as plt\n",
        "\n",
        "\n",
        "rmse_values = [rmse1, rmse2, rmse3, rmse4]\n",
        "models = ['R_Most1', 'R_Least1', 'R_Most2', 'R_Least2']\n",
        "\n",
        "\n",
        "plt.figure(figsize=(8, 6))\n",
        "plt.bar(models, rmse_values, color='skyblue')\n",
        "plt.xlabel('Models', size=12)\n",
        "plt.ylabel('RMSE', size=12)\n",
        "plt.title('RMSE Values for Different Models', size=14)\n",
        "plt.ylim(min(rmse_values)*0.9, max(rmse_values) * 1.1)\n",
        "plt.show()\n"
      ],
      "metadata": {
        "colab": {
          "base_uri": "https://localhost:8080/",
          "height": 507
        },
        "id": "VIPZ18Kzgeiz",
        "outputId": "de974758-7bc2-4438-d151-302220b4d4da"
      },
      "id": "VIPZ18Kzgeiz",
      "execution_count": null,
      "outputs": [
        {
          "output_type": "display_data",
          "data": {
            "text/plain": [
              "<Figure size 800x600 with 1 Axes>"
            ],
            "image/png": "[encoded data removed]"
          },
          "metadata": {}
        }
      ]
    },
    {
      "cell_type": "markdown",
      "source": [
        "as we can see that mse_most 1 is greater than mse_most 2 which means that the higher the amount of training data we use the higher the prediction is.\n",
        "\n",
        "WHen looking at mse_most1 and mse_least1 the latter is greater indicating that features that are more corellated deliver better predictions.\n",
        "\n"
      ],
      "metadata": {
        "id": "v_gN67tRlEur"
      },
      "id": "v_gN67tRlEur"
    },
    {
      "cell_type": "code",
      "source": [],
      "metadata": {
        "id": "Kl9ldpUKlDLw"
      },
      "id": "Kl9ldpUKlDLw",
      "execution_count": null,
      "outputs": []
    },
    {
      "cell_type": "code",
      "source": [],
      "metadata": {
        "id": "QvcGTu7MilOE"
      },
      "id": "QvcGTu7MilOE",
      "execution_count": null,
      "outputs": []
    },
    {
      "cell_type": "markdown",
      "id": "f97796c2",
      "metadata": {
        "id": "f97796c2"
      },
      "source": [
        "### Q7: Data Science Ethics\n",
        "*Please read the following examples [Click here to read the example_1.](https://www.vox.com/covid-19-coronavirus-us-response-trump/2020/5/18/21262265/georgia-covid-19-cases-declining-reopening) [Click here to read the example_2.](https://viborc.com/ethics-and-ethical-data-visualization-a-complete-guide/)\n",
        "\n",
        "*Then view the picture ![My Image](figure_portfolio2.png \"This is my image\")\n",
        "Please compose an analysis of 100-200 words that evaluates potential ethical concerns associated with the infographic, detailing the reasons behind these issues.\n"
      ]
    },
    {
      "cell_type": "code",
      "execution_count": null,
      "id": "53bddf20",
      "metadata": {
        "id": "53bddf20"
      },
      "outputs": [],
      "source": []
    },
    {
      "cell_type": "markdown",
      "source": [],
      "metadata": {
        "id": "O66m-OFyimcs"
      },
      "id": "O66m-OFyimcs"
    },
    {
      "cell_type": "markdown",
      "source": [
        "From the articles and the picture provided it is aubundently clear that misrepresantaion due to bias and objectives of different individuals and Governing bodies is one of the biggest ethical concern of the infographics. For example the for the results of the summer olypics of 2008, we can see two different charts one with showing countries ranked according to gold medals won and other showing countires ranked according to total medals one. Depending on which chart gets published the potential reader would be lead to believe that the country on top of that particular list was the most successful in the olympics whereas in reality only the gold medals won count towards the overall success of a country at the event.These actions have certain emotional impact on the audiences where they could be minupilated into believeing any thing that the governing bodies intend them to. Although the data is not incorrect, the way it is being represented gives rise to ethical concerns of malpractice and misleading the masses."
      ],
      "metadata": {
        "id": "RN9BwA7FiiOX"
      },
      "id": "RN9BwA7FiiOX"
    }
  ],
  "metadata": {
    "colab": {
      "provenance": []
    },
    "kernelspec": {
      "display_name": "Python 3 (ipykernel)",
      "language": "python",
      "name": "python3"
    },
    "language_info": {
      "codemirror_mode": {
        "name": "ipython",
        "version": 3
      },
      "file_extension": ".py",
      "mimetype": "text/x-python",
      "name": "python",
      "nbconvert_exporter": "python",
      "pygments_lexer": "ipython3",
      "version": "3.11.5"
    }
  },
  "nbformat": 4,
  "nbformat_minor": 5
}